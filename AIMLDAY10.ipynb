{
 "cells": [
  {
   "cell_type": "code",
   "execution_count": 4,
   "id": "27842232-bf12-46cd-8c78-67fd569bed93",
   "metadata": {},
   "outputs": [
    {
     "name": "stdout",
     "output_type": "stream",
     "text": [
      "2\n",
      "4\n",
      "6\n",
      "8\n",
      "10\n",
      "12\n",
      "14\n",
      "16\n",
      "18\n",
      "20\n"
     ]
    }
   ],
   "source": [
    "for i in range(1,11):\n",
    "    print(i*2)"
   ]
  },
  {
   "cell_type": "code",
   "execution_count": 16,
   "id": "376c7b32-ce30-40ae-a7c7-94a3a1f9e93a",
   "metadata": {},
   "outputs": [
    {
     "name": "stdin",
     "output_type": "stream",
     "text": [
      "enter value 5\n"
     ]
    },
    {
     "name": "stdout",
     "output_type": "stream",
     "text": [
      "120\n"
     ]
    }
   ],
   "source": [
    "a=int(input('enter value'))#factorial Pgm\n",
    "fact=1\n",
    "for i in range (a,1,-1):\n",
    "    fact*=i\n",
    "\n",
    "print(fact)\n"
   ]
  },
  {
   "cell_type": "code",
   "execution_count": 28,
   "id": "c622429b-4de0-4a25-bc4c-125b54ae2c1d",
   "metadata": {},
   "outputs": [
    {
     "name": "stdin",
     "output_type": "stream",
     "text": [
      "Enter num:  0\n"
     ]
    },
    {
     "name": "stdout",
     "output_type": "stream",
     "text": [
      "1\n"
     ]
    }
   ],
   "source": [
    "def fact(n):    #factorial in recursion\n",
    "    if n==0 or n==1:\n",
    "        return 1\n",
    "\n",
    "    else:\n",
    "        return n*fact(n-1)\n",
    "\n",
    "print(fact(int(input('Enter num: ')))) \n"
   ]
  },
  {
   "cell_type": "code",
   "execution_count": null,
   "id": "09f1e688-2b3e-4b44-9d6e-200e3ea2623e",
   "metadata": {},
   "outputs": [],
   "source": [
    "def findpi(ar,low,high):\n",
    "    pe=[high]\n",
    "    j=low-1\n",
    "    for i in range(low,high):\n",
    "        if pe>ar[i]:\n",
    "            j+=1\n",
    "            ar[i],ar[j]=ar[j],ar[i]\n",
    "    ar[high],ar[j+1]=ar[j=1],ar[high] \n",
    "    return j+1\n",
    "\n",
    "def quicksort(ar,low,high):\n",
    "    if low<high:\n",
    "        pi= findpi(ar,low,high)"
   ]
  },
  {
   "cell_type": "code",
   "execution_count": null,
   "id": "c65a15ff-c005-4b4c-8022-822d075e05a8",
   "metadata": {},
   "outputs": [
    {
     "name": "stdout",
     "output_type": "stream",
     "text": [
      "\n",
      "Menu:\n",
      "1. Insert at Start\n",
      "2. Insert at End\n",
      "3. Insert at Middle\n",
      "4. Delete at Start\n",
      "5. Delete at End\n",
      "6. Delete at Middle\n",
      "7. Display\n",
      "8. Exit\n"
     ]
    },
    {
     "name": "stdin",
     "output_type": "stream",
     "text": [
      "Enter your choice:  1\n",
      "Enter data to insert at start:  1\n"
     ]
    },
    {
     "name": "stdout",
     "output_type": "stream",
     "text": [
      "\n",
      "Menu:\n",
      "1. Insert at Start\n",
      "2. Insert at End\n",
      "3. Insert at Middle\n",
      "4. Delete at Start\n",
      "5. Delete at End\n",
      "6. Delete at Middle\n",
      "7. Display\n",
      "8. Exit\n"
     ]
    },
    {
     "name": "stdin",
     "output_type": "stream",
     "text": [
      "Enter your choice:  1\n",
      "Enter data to insert at start:  3\n"
     ]
    },
    {
     "name": "stdout",
     "output_type": "stream",
     "text": [
      "\n",
      "Menu:\n",
      "1. Insert at Start\n",
      "2. Insert at End\n",
      "3. Insert at Middle\n",
      "4. Delete at Start\n",
      "5. Delete at End\n",
      "6. Delete at Middle\n",
      "7. Display\n",
      "8. Exit\n"
     ]
    },
    {
     "name": "stdin",
     "output_type": "stream",
     "text": [
      "Enter your choice:  1\n",
      "Enter data to insert at start:  4\n"
     ]
    },
    {
     "name": "stdout",
     "output_type": "stream",
     "text": [
      "\n",
      "Menu:\n",
      "1. Insert at Start\n",
      "2. Insert at End\n",
      "3. Insert at Middle\n",
      "4. Delete at Start\n",
      "5. Delete at End\n",
      "6. Delete at Middle\n",
      "7. Display\n",
      "8. Exit\n"
     ]
    },
    {
     "name": "stdin",
     "output_type": "stream",
     "text": [
      "Enter your choice:  7\n"
     ]
    },
    {
     "name": "stdout",
     "output_type": "stream",
     "text": [
      "4 -> 3 -> 1 -> None\n",
      "\n",
      "Menu:\n",
      "1. Insert at Start\n",
      "2. Insert at End\n",
      "3. Insert at Middle\n",
      "4. Delete at Start\n",
      "5. Delete at End\n",
      "6. Delete at Middle\n",
      "7. Display\n",
      "8. Exit\n"
     ]
    },
    {
     "name": "stdin",
     "output_type": "stream",
     "text": [
      "Enter your choice:  5\n"
     ]
    },
    {
     "name": "stdout",
     "output_type": "stream",
     "text": [
      "\n",
      "Menu:\n",
      "1. Insert at Start\n",
      "2. Insert at End\n",
      "3. Insert at Middle\n",
      "4. Delete at Start\n",
      "5. Delete at End\n",
      "6. Delete at Middle\n",
      "7. Display\n",
      "8. Exit\n"
     ]
    },
    {
     "name": "stdin",
     "output_type": "stream",
     "text": [
      "Enter your choice:  7\n"
     ]
    },
    {
     "name": "stdout",
     "output_type": "stream",
     "text": [
      "4 -> 3 -> None\n",
      "\n",
      "Menu:\n",
      "1. Insert at Start\n",
      "2. Insert at End\n",
      "3. Insert at Middle\n",
      "4. Delete at Start\n",
      "5. Delete at End\n",
      "6. Delete at Middle\n",
      "7. Display\n",
      "8. Exit\n"
     ]
    }
   ],
   "source": [
    "class Node:\n",
    "    def __init__(self, data):\n",
    "        self.data = data\n",
    "        self.next = None\n",
    "\n",
    "class LinkedList:\n",
    "    def __init__(self):\n",
    "        self.head = None\n",
    "\n",
    "    def insert_at_start(self, data):\n",
    "        new_node = Node(data)\n",
    "        new_node.next = self.head\n",
    "        self.head = new_node\n",
    "\n",
    "    def insert_at_end(self, data):\n",
    "        new_node = Node(data)\n",
    "        if not self.head:\n",
    "            self.head = new_node\n",
    "            return\n",
    "        last_node = self.head\n",
    "        while last_node.next:\n",
    "            last_node = last_node.next\n",
    "        last_node.next = new_node\n",
    "\n",
    "    def insert_at_middle(self, data, position):\n",
    "        if position == 0:\n",
    "            self.insert_at_start(data)\n",
    "            return\n",
    "        new_node = Node(data)\n",
    "        current_node = self.head\n",
    "        for _ in range(position - 1):\n",
    "            if current_node is None:\n",
    "                print(\"Position out of range\")\n",
    "                return\n",
    "            current_node = current_node.next\n",
    "        if current_node is None:\n",
    "            print(\"Position out of range\")\n",
    "            return\n",
    "        new_node.next = current_node.next\n",
    "        current_node.next = new_node\n",
    "\n",
    "    def delete_at_start(self):\n",
    "        if not self.head:\n",
    "            print(\"List is empty, nothing to delete\")\n",
    "            return\n",
    "        self.head = self.head.next\n",
    "\n",
    "    def delete_at_end(self):\n",
    "        if not self.head:\n",
    "            print(\"List is empty, nothing to delete\")\n",
    "            return\n",
    "        if self.head.next is None:\n",
    "            self.head = None\n",
    "            return\n",
    "        second_last = self.head\n",
    "        while second_last.next.next:\n",
    "            second_last = second_last.next\n",
    "        second_last.next = None\n",
    "\n",
    "    def delete_at_middle(self, position):\n",
    "        if position == 0:\n",
    "            self.delete_at_start()\n",
    "            return\n",
    "        current_node = self.head\n",
    "        for _ in range(position - 1):\n",
    "            if current_node is None or current_node.next is None:\n",
    "                print(\"Position out of range\")\n",
    "                return\n",
    "            current_node = current_node.next\n",
    "        if current_node.next is None:\n",
    "            print(\"Position out of range\")\n",
    "            return\n",
    "        current_node.next = current_node.next.next\n",
    "\n",
    "    def display(self):\n",
    "        current_node = self.head\n",
    "        while current_node:\n",
    "            print(current_node.data, end=\" -> \")\n",
    "            current_node = current_node.next\n",
    "        print(\"None\")\n",
    "\n",
    "if __name__ == \"__main__\":\n",
    "    linked_list = LinkedList()\n",
    "    while True:\n",
    "        print(\"\\nMenu:\")\n",
    "        print(\"1. Insert at Start\")\n",
    "        print(\"2. Insert at End\")\n",
    "        print(\"3. Insert at Middle\")\n",
    "        print(\"4. Delete at Start\")\n",
    "        print(\"5. Delete at End\")\n",
    "        print(\"6. Delete at Middle\")\n",
    "        print(\"7. Display\")\n",
    "        print(\"8. Exit\")\n",
    "        choice = int(input(\"Enter your choice: \"))\n",
    "\n",
    "        if choice == 1:\n",
    "            data = input(\"Enter data to insert at start: \")\n",
    "            linked_list.insert_at_start(data)\n",
    "        elif choice == 2:\n",
    "            data = input(\"Enter data to insert at end: \")\n",
    "            linked_list.insert_at_end(data)\n",
    "        elif choice == 3:\n",
    "            data = input(\"Enter data to insert: \")\n",
    "            position = int(input(\"Enter position to insert at: \"))\n",
    "            linked_list.insert_at_middle(data, position)\n",
    "        elif choice == 4:\n",
    "            linked_list.delete_at_start()\n",
    "        elif choice == 5:\n",
    "            linked_list.delete_at_end()\n",
    "        elif choice == 6:\n",
    "            position = int(input(\"Enter position to delete: \"))\n",
    "            linked_list.delete_at_middle(position)\n",
    "        elif choice == 7:\n",
    "            linked_list.display()\n",
    "        elif choice == 8:\n",
    "            break\n",
    "        else:\n",
    "            print(\"Invalid choice. Please enter a valid option.\")\n"
   ]
  },
  {
   "cell_type": "code",
   "execution_count": null,
   "id": "364d8e76-6c44-4e95-8423-155b01ffe207",
   "metadata": {},
   "outputs": [],
   "source": []
  }
 ],
 "metadata": {
  "kernelspec": {
   "display_name": "Python 3 (ipykernel)",
   "language": "python",
   "name": "python3"
  },
  "language_info": {
   "codemirror_mode": {
    "name": "ipython",
    "version": 3
   },
   "file_extension": ".py",
   "mimetype": "text/x-python",
   "name": "python",
   "nbconvert_exporter": "python",
   "pygments_lexer": "ipython3",
   "version": "3.12.3"
  }
 },
 "nbformat": 4,
 "nbformat_minor": 5
}
