{
 "cells": [
  {
   "cell_type": "code",
   "execution_count": 31,
   "id": "27034e2a-f4b0-4c63-9e35-ad3d05f58148",
   "metadata": {},
   "outputs": [
    {
     "name": "stdout",
     "output_type": "stream",
     "text": [
      "4 store\n",
      "ka_0321\n",
      "300000\n",
      "black\n",
      "4 store\n",
      "ka_0321\n",
      "300000\n",
      "4 store\n",
      "ka_0321\n",
      "300000\n",
      "4 store\n",
      "ka_0321\n",
      "4 store\n",
      "ka_0321\n"
     ]
    }
   ],
   "source": [
    "class vehicle:\n",
    "    def __init__(self, engine, regplate, price, colour):\n",
    "        self.engine = engine\n",
    "        self.regplate = regplate\n",
    "        self.price = price\n",
    "        self.colour = colour\n",
    "            \n",
    "\n",
    "class car(vehicle):\n",
    "    def __init__(self, t, np, ms, engine, regplate, price, colour):\n",
    "        super().__init__(engine, regplate, price, colour)\n",
    "        self.types = t\n",
    "        self.noofpassengers = np\n",
    "        self.maxspeed = ms\n",
    "    \n",
    "class truck(vehicle):\n",
    "    def __init__(self, na, lc, engine, regplate, price, colour):\n",
    "        super().__init__(engine, regplate, price, colour)\n",
    "        self.noofaxle = na\n",
    "        self.loadcapacity = lc\n",
    "\n",
    "if __name__ == \"__main__\":\n",
    "    kia = vehicle(\"4 store\", \"ka_0321\", 300000, \"black\")\n",
    "    print(kia.engine)\n",
    "    print(kia.regplate)\n",
    "    print(kia.price)\n",
    "    print(kia.colour)\n",
    "\n",
    "if __name__ == \"__main__\":\n",
    "    kia = car (\"4 store\", \"ka_0321\", 300000,\"4 store\", \"ka_0321\", 300000,9)\n",
    "    print(kia.types)\n",
    "    print(kia.noofpassengers)\n",
    "    print(kia.maxspeed)\n",
    "    print(kia.types)\n",
    "    print(kia.noofpassengers)\n",
    "    print(kia.maxspeed)\n",
    "\n",
    "if __name__ == \"__main__\":\n",
    "    kia = truck (\"4 store\", \"ka_0321\",\"4 store\", \"ka_0321\",\"4 store\", \"ka_0321\")\n",
    "    print(kia.noofaxle)\n",
    "    print(kia.loadcapacity)\n",
    "    print(kia.noofaxle)\n",
    "    print(kia.loadcapacity)\n",
    "   \n",
    "    \n"
   ]
  },
  {
   "cell_type": "raw",
   "id": "97c22d51-1747-4efa-999d-a3c3d8b0399f",
   "metadata": {},
   "source": [
    "print(\"\\nNormal Pyramid\")\n",
    "for i in range(10):\n",
    "    x = '*' * (i + 1)  \n",
    "    print(f'{x:^10}')\n"
   ]
  },
  {
   "cell_type": "code",
   "execution_count": 96,
   "id": "60130afa-a469-4add-97b3-6a7fafeefa1c",
   "metadata": {},
   "outputs": [
    {
     "name": "stdout",
     "output_type": "stream",
     "text": [
      "* * * * * * * * * * * * * * * * * * * * * * * * * * * * * * * * * * * * * * * * * * * * * * * * * * * * * * * \n"
     ]
    }
   ],
   "source": [
    "for i in range(0,10):\n",
    "    for j in range(0,i+1):\n",
    "        print(\"*\" ,end=\" \")\n",
    "print('')        \n"
   ]
  },
  {
   "cell_type": "code",
   "execution_count": 55,
   "id": "26299219-a31e-42b3-8861-bcc79909b1b3",
   "metadata": {},
   "outputs": [
    {
     "name": "stdout",
     "output_type": "stream",
     "text": [
      "\n",
      "*\n",
      "**\n",
      "***\n",
      "****\n"
     ]
    }
   ],
   "source": [
    "for i in range(0,5):\n",
    "    print('*' * i)"
   ]
  },
  {
   "cell_type": "code",
   "execution_count": 84,
   "id": "7d04e0b2-10cf-4b77-bb3d-952bd5c40845",
   "metadata": {
    "scrolled": true
   },
   "outputs": [
    {
     "name": "stdout",
     "output_type": "stream",
     "text": [
      "0 1\n",
      "0 10 1\n",
      "0 10 10 1\n",
      "0 10 10 10 1\n",
      "0 10 10 10 10 1\n",
      "0 10 10 10 10 10 1\n",
      "0 10 10 10 10 10 10 1\n",
      "0 10 10 10 10 10 10 10 1\n",
      "0 10 10 10 10 10 10 10 10 1\n",
      "0 10 10 10 10 10 10 10 10 10 1\n"
     ]
    }
   ],
   "source": [
    "for i in range(0,10):\n",
    "    for j in range(0,i+1):\n",
    "        print(\"0\",\"1\",end=\"\")\n",
    "    print('')        \n"
   ]
  },
  {
   "cell_type": "code",
   "execution_count": 93,
   "id": "4ae9d42e-274a-4a51-85ab-6b6a103cae70",
   "metadata": {},
   "outputs": [
    {
     "name": "stdout",
     "output_type": "stream",
     "text": [
      " \n",
      "0  \n",
      "1 0  \n",
      "0 1 0  \n",
      "1 0 1 0  \n",
      "0 1 0 1 0  \n",
      "1 0 1 0 1 0  \n",
      "0 1 0 1 0 1 0  \n",
      "1 0 1 0 1 0 1 0  \n"
     ]
    }
   ],
   "source": [
    "for i in range(0,9):\n",
    "    for j in range (0,i):\n",
    "        if(i+j)%2==0:\n",
    "            print(\"1\",end=\" \")\n",
    "        else:\n",
    "            print(\"0\",end=\" \")\n",
    "    print(' ')       "
   ]
  },
  {
   "cell_type": "code",
   "execution_count": 110,
   "id": "0aa4bad0-7696-48bd-84aa-74c228cce53a",
   "metadata": {},
   "outputs": [
    {
     "ename": "IndentationError",
     "evalue": "expected an indented block after 'if' statement on line 3 (2770450730.py, line 4)",
     "output_type": "error",
     "traceback": [
      "\u001b[1;36m  Cell \u001b[1;32mIn[110], line 4\u001b[1;36m\u001b[0m\n\u001b[1;33m    print(\"*\",end=\" \")\u001b[0m\n\u001b[1;37m    ^\u001b[0m\n\u001b[1;31mIndentationError\u001b[0m\u001b[1;31m:\u001b[0m expected an indented block after 'if' statement on line 3\n"
     ]
    }
   ],
   "source": [
    "for i in range(0,10):\n",
    "    for j in range(0,10):\n",
    "        if i==0 or j==0 or i==n-1 or j==n-1:\n",
    "        print(\"*\",end=\" \")\n",
    "        else:\n",
    "        print(\" \",end=\" \")\n",
    "    print(' ')\n"
   ]
  },
  {
   "cell_type": "code",
   "execution_count": null,
   "id": "2e66e62f-33b0-4309-b709-15ee1f4e68c4",
   "metadata": {},
   "outputs": [],
   "source": []
  }
 ],
 "metadata": {
  "kernelspec": {
   "display_name": "Python 3 (ipykernel)",
   "language": "python",
   "name": "python3"
  },
  "language_info": {
   "codemirror_mode": {
    "name": "ipython",
    "version": 3
   },
   "file_extension": ".py",
   "mimetype": "text/x-python",
   "name": "python",
   "nbconvert_exporter": "python",
   "pygments_lexer": "ipython3",
   "version": "3.12.3"
  }
 },
 "nbformat": 4,
 "nbformat_minor": 5
}
