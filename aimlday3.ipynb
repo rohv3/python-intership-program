{
 "cells": [
  {
   "cell_type": "code",
   "execution_count": 36,
   "id": "cc5addf0-eea5-4747-bea6-115755d66759",
   "metadata": {},
   "outputs": [
    {
     "name": "stdout",
     "output_type": "stream",
     "text": [
      "0\n",
      "1\n",
      "2\n",
      "3\n",
      "4\n",
      "5\n",
      "6\n",
      "7\n",
      "8\n",
      "riyan\n"
     ]
    }
   ],
   "source": [
    "a=[0,1,2,3,4,5,6,7,8,'riyan']\n",
    "for x in range(0,10):\n",
    " print(a[x])"
   ]
  },
  {
   "cell_type": "markdown",
   "id": "c08200a8-c8af-41c6-b343-bf6911c37a10",
   "metadata": {},
   "source": [
    "\n",
    "for x in range(0,100):\n",
    "print(x)"
   ]
  },
  {
   "cell_type": "markdown",
   "id": "6f4a1d0d-d3fc-435e-b00f-9d504236a460",
   "metadata": {},
   "source": [
    "append object to the end of the list\n",
    "extend list "
   ]
  },
  {
   "cell_type": "code",
   "execution_count": 56,
   "id": "c52ee8ad-5ef1-4460-aead-168bdf1e5034",
   "metadata": {},
   "outputs": [
    {
     "name": "stdout",
     "output_type": "stream",
     "text": [
      "[1, 2, 3, 4, 5]\n",
      "4\n",
      "[1, 2, 3, 5]\n",
      "[1, 2, 3, 5, 10]\n",
      "[1, 2, 3, 5, 10, 3, 10, 5]\n",
      "[1, 2, 5, 10, 3, 10, 5]\n",
      "4\n",
      "1\n",
      "1\n",
      "[10, 10, 5, 5, 3, 2, 1]\n",
      "7\n"
     ]
    }
   ],
   "source": [
    "a=[1,2,3,4,5]\n",
    "b=a.copy()\n",
    "print(b)\n",
    "c=b.pop(3)\n",
    "print(c)\n",
    "print(b)\n",
    "b.append(10)\n",
    "print(b)\n",
    "b.append(3)\n",
    "b.append(10)\n",
    "b.append(5)\n",
    "print(b)\n",
    "b.remove(3)\n",
    "print(b)\n",
    "print(b.index(3))\n",
    "print(b.count(3))\n",
    "print(b.count(3))\n",
    "b.sort(reverse=True)\n",
    "print(b)\n",
    "print(len(b))\n"
   ]
  },
  {
   "cell_type": "code",
   "execution_count": 67,
   "id": "392791d1-acaf-4425-be24-0e71a0c534fd",
   "metadata": {},
   "outputs": [
    {
     "name": "stdin",
     "output_type": "stream",
     "text": [
      "enter the size of list 5\n",
      " 2\n"
     ]
    },
    {
     "name": "stdout",
     "output_type": "stream",
     "text": [
      "['2']\n"
     ]
    },
    {
     "name": "stdin",
     "output_type": "stream",
     "text": [
      " 3\n"
     ]
    },
    {
     "name": "stdout",
     "output_type": "stream",
     "text": [
      "['2', '3']\n"
     ]
    },
    {
     "name": "stdin",
     "output_type": "stream",
     "text": [
      " 4\n"
     ]
    },
    {
     "name": "stdout",
     "output_type": "stream",
     "text": [
      "['2', '3', '4']\n"
     ]
    },
    {
     "name": "stdin",
     "output_type": "stream",
     "text": [
      " 5\n"
     ]
    },
    {
     "name": "stdout",
     "output_type": "stream",
     "text": [
      "['2', '3', '4', '5']\n"
     ]
    },
    {
     "name": "stdin",
     "output_type": "stream",
     "text": [
      " 6\n"
     ]
    },
    {
     "name": "stdout",
     "output_type": "stream",
     "text": [
      "['2', '3', '4', '5', '6']\n"
     ]
    }
   ],
   "source": [
    " n=int(input(\"enter the size of list\"))\n",
    "a=[]\n",
    "for x in range(0,n):\n",
    "    x=input()\n",
    "    a.append(x)\n",
    "    print(a)"
   ]
  },
  {
   "cell_type": "code",
   "execution_count": 78,
   "id": "5b36dd6a-c448-41be-96fa-3a05e2e88b79",
   "metadata": {},
   "outputs": [
    {
     "name": "stdin",
     "output_type": "stream",
     "text": [
      "enter the elements of the list:  1 2 3\n"
     ]
    },
    {
     "name": "stdout",
     "output_type": "stream",
     "text": [
      "[1, 2, 3]\n"
     ]
    }
   ],
   "source": [
    "L = [int(item)for item in (input(\"enter the elements of the list: \").split())]\n",
    "print(L)\n",
    "\n",
    "\n"
   ]
  },
  {
   "cell_type": "code",
   "execution_count": 90,
   "id": "94f49c9c-f796-415f-b404-cf1e61d713aa",
   "metadata": {},
   "outputs": [
    {
     "name": "stdout",
     "output_type": "stream",
     "text": [
      "(1, 2, 3, 4, 5, 6, 7, 8, 'riyan')\n",
      "[1, 2, 3, 4, 5, 6, 7, 8, 'riyan']\n",
      "(1, 2, 3, 4, 5, 'zaid', 7, 8, 'riyan')\n",
      "(1, 2, 3, 4, 5, 'zaid', 7, 8, 'riyan')\n",
      "(1, 2, 3, 4, 5, 'zaid', 7, 8, 'riyan')\n",
      "(1, 2, 3, 4, 5, 'zaid', 7, 8, 'riyan')\n",
      "(1, 2, 3, 4, 5, 'zaid', 7, 8, 'riyan')\n",
      "(1, 2, 3, 4, 5, 'zaid', 7, 8, 'riyan')\n",
      "(1, 2, 3, 4, 5, 'zaid', 7, 8, 'riyan')\n",
      "(1, 2, 3, 4, 5, 'zaid', 7, 8, 'riyan')\n",
      "(1, 2, 3, 4, 5, 'zaid', 7, 8, 'riyan')\n",
      "(1, 2, 3, 4, 5, 'zaid', 7, 8, 'riyan')\n"
     ]
    }
   ],
   "source": [
    "a=(1,2,3,4,5,6,7,8,'riyan')\n",
    "print(a)\n",
    "b=list(a)\n",
    "print(b)\n",
    "b[5]='zaid'\n",
    "a=tuple(b)\n",
    "print(a)\n",
    "for x in range(-1,-1*(len(a)+1),-1):\n",
    "  print(a)"
   ]
  },
  {
   "cell_type": "code",
   "execution_count": 86,
   "id": "3047f4e0-cd68-40f6-ae71-82c881ec8ddb",
   "metadata": {},
   "outputs": [
    {
     "name": "stdout",
     "output_type": "stream",
     "text": [
      "9\n",
      "8\n",
      "7\n",
      "6\n",
      "5\n",
      "4\n",
      "3\n",
      "2\n",
      "1\n"
     ]
    }
   ],
   "source": [
    "a=(1,2,3,4,5,6,7,8,9)\n",
    "for x in range(-1,-1*(len(a)+1),-1):\n",
    "    print(a[x])"
   ]
  },
  {
   "cell_type": "code",
   "execution_count": 95,
   "id": "c03dda0a-b8f2-4abc-9349-5634cd25e902",
   "metadata": {},
   "outputs": [
    {
     "name": "stdout",
     "output_type": "stream",
     "text": [
      "9\n",
      "8\n",
      "7\n",
      "6\n",
      "5\n",
      "4\n",
      "3\n",
      "2\n",
      "1\n"
     ]
    }
   ],
   "source": [
    "a=(1,2,3,4,5,6,7,8,9)\n",
    "for x in range(0,len(a)):\n",
    " print(a[-1*(x+1)])\n"
   ]
  },
  {
   "cell_type": "markdown",
   "id": "b79a10e8-58bc-49d0-9b00-c33ec87a4481",
   "metadata": {},
   "source": [
    "dictionary has\n",
    "keys and values \n",
    "key values pair\n",
    "\n"
   ]
  },
  {
   "cell_type": "code",
   "execution_count": 113,
   "id": "f369cc78-5b2e-4f45-8cd6-019f4635fa76",
   "metadata": {},
   "outputs": [
    {
     "name": "stdout",
     "output_type": "stream",
     "text": [
      "{1: 'riyan', 2: 'hell', 3: 'hello'}\n",
      "hell\n",
      "dict_values(['riyan', 'hell', 'hello'])\n",
      "dict_items([(1, 'riyan'), (2, 'hell'), (3, 'hello')])\n",
      "dict_keys([1, 2, 3])\n"
     ]
    },
    {
     "ename": "AttributeError",
     "evalue": "'dict' object has no attribute 'gets'",
     "output_type": "error",
     "traceback": [
      "\u001b[1;31m---------------------------------------------------------------------------\u001b[0m",
      "\u001b[1;31mAttributeError\u001b[0m                            Traceback (most recent call last)",
      "Cell \u001b[1;32mIn[113], line 7\u001b[0m\n\u001b[0;32m      5\u001b[0m \u001b[38;5;28mprint\u001b[39m(d\u001b[38;5;241m.\u001b[39mitems())\n\u001b[0;32m      6\u001b[0m \u001b[38;5;28mprint\u001b[39m(d\u001b[38;5;241m.\u001b[39mkeys())\n\u001b[1;32m----> 7\u001b[0m \u001b[43md\u001b[49m\u001b[38;5;241;43m.\u001b[39;49m\u001b[43mgets\u001b[49m(key,default\u001b[38;5;241m=\u001b[39m\u001b[38;5;124m'\u001b[39m\u001b[38;5;124mdoes not exist\u001b[39m\u001b[38;5;124m'\u001b[39m)\n",
      "\u001b[1;31mAttributeError\u001b[0m: 'dict' object has no attribute 'gets'"
     ]
    }
   ],
   "source": [
    "d={1:'riyan',2:'zaid',3:'hello',2:'hell'}\n",
    "print(d)\n",
    "print(d[2])\n",
    "print(d.values())\n",
    "print(d.items())\n",
    "print(d.keys())\n",
    "d.gets(key,default='does not exist')"
   ]
  },
  {
   "cell_type": "markdown",
   "id": "05f4e01f-f082-4863-b5e4-833f290841eb",
   "metadata": {},
   "source": [
    "write a program to take key and value from the user and add it ton the dictionary if key is not present in dictionary otherwise print key already exist if it exists"
   ]
  },
  {
   "cell_type": "code",
   "execution_count": 23,
   "id": "d82d297f-dfa3-427d-a94d-ce1ec50b3d37",
   "metadata": {},
   "outputs": [
    {
     "name": "stdin",
     "output_type": "stream",
     "text": [
      "enter the index: 5\n"
     ]
    },
    {
     "name": "stdout",
     "output_type": "stream",
     "text": [
      "there is no such index\n"
     ]
    }
   ],
   "source": [
    "d=[1,2,3,4]\n",
    "a=int(input(\"enter the index:\"))\n",
    "try:\n",
    "    print(d[a])\n",
    "except:\n",
    "     print(\"there is no such index\")\n",
    "    "
   ]
  },
  {
   "cell_type": "code",
   "execution_count": null,
   "id": "22126e1c-119d-4cbc-b37d-88df7e43018c",
   "metadata": {},
   "outputs": [],
   "source": [
    "try:\n",
    "    a=input()\n",
    "    b=input()\n",
    "    c=int(a)/int(b)\n",
    "except ValueError:\n",
    "    print(\"value unable to convert\")\n",
    "except ZeroDivisionError:\n",
    "    print(\"zero cannot divide any number\")\n",
    "except:\n",
    "  print(\"some unknown error found\")\n",
    "else:\n",
    "    print(\"no error\")\n",
    "finally:\n",
    "    print(\"code execution done\")"
   ]
  },
  {
   "cell_type": "code",
   "execution_count": null,
   "id": "e1468c56-317f-48ec-86e2-f2d61cc1ca15",
   "metadata": {},
   "outputs": [],
   "source": [
    "a=[1,2,3,4,5,6,7]\n",
    "print(\"sum of all the elements: \",b)\n",
    "print(len(b))"
   ]
  },
  {
   "cell_type": "code",
   "execution_count": null,
   "id": "cc6bbaac-1386-4482-8ba1-71d38532c084",
   "metadata": {},
   "outputs": [],
   "source": [
    "def find_sum_of_list(list):\n",
    "    total = n\n",
    "\n",
    "    for item in list:\n",
    "        if isinstance(item, (int, float)):\n",
    "            total = item\n",
    "        else:\n",
    "            print(f\"Ignoring non-numeric value: {item}\")\n",
    "\n",
    "\n"
   ]
  },
  {
   "cell_type": "code",
   "execution_count": null,
   "id": "7858d13d-a853-41e6-813c-0aaf111b3e41",
   "metadata": {},
   "outputs": [],
   "source": [
    "a=input()\n",
    "i=int(input()(\"enter the index:\"))\n",
    "try:\n",
    "    print(a[i])\n",
    "    except:\n",
    "    print(\"there is no such index\")\n"
   ]
  },
  {
   "cell_type": "code",
   "execution_count": null,
   "id": "d7907f96-4278-4475-93d9-4c7605eea048",
   "metadata": {},
   "outputs": [],
   "source": [
    "a=input()\n",
    "if isupper(a):\n",
    "    print(\"a is a upper case character\")\n",
    "elif islower(a):\n",
    "    print(\"a is a lower case character\")\n",
    "elif a.islower():\n",
    "    print(\"\")"
   ]
  },
  {
   "cell_type": "code",
   "execution_count": 6,
   "id": "d7fb1932-dc96-4808-964a-87b9cfeccb25",
   "metadata": {},
   "outputs": [
    {
     "name": "stdin",
     "output_type": "stream",
     "text": [
      " abcda\n"
     ]
    },
    {
     "name": "stdout",
     "output_type": "stream",
     "text": [
      "not pallindrome\n"
     ]
    }
   ],
   "source": [
    "a=input()\n",
    "flag = 0\n",
    "for i in range(0,int(len(a)/2)):\n",
    "    if a[i] != a[(i+1)*-1]:\n",
    "        flag = 1\n",
    "        break\n",
    "if flag:\n",
    "            print(\"not pallindrome\")\n",
    "else:\n",
    "            print(\"pallindrome\")"
   ]
  },
  {
   "cell_type": "code",
   "execution_count": 32,
   "id": "e5d7c98d-41da-4ec2-bc03-a630aba1507c",
   "metadata": {},
   "outputs": [
    {
     "name": "stdin",
     "output_type": "stream",
     "text": [
      " 9\n"
     ]
    },
    {
     "name": "stdout",
     "output_type": "stream",
     "text": [
      "A is not a prime\n"
     ]
    }
   ],
   "source": [
    "a=int(input())\n",
    "\n",
    "for i in range(2,int(a/2)):\n",
    "    if a%i==0:\n",
    "        print(\"A is not a prime\")\n",
    "        break\n",
    "else:\n",
    "        print(\"A is a prime\")"
   ]
  },
  {
   "cell_type": "code",
   "execution_count": 36,
   "id": "df90bd14-2a9a-4380-b41b-43980fb0d49d",
   "metadata": {},
   "outputs": [
    {
     "name": "stdin",
     "output_type": "stream",
     "text": [
      " 4\n"
     ]
    },
    {
     "name": "stdout",
     "output_type": "stream",
     "text": [
      "is not a prime\n"
     ]
    }
   ],
   "source": [
    "a=input()\n",
    "flag = 0\n",
    "for i in range(0,int(len(a)/2)):\n",
    "    if a%i==0:\n",
    "        flag = 1\n",
    "        break\n",
    "if flag:\n",
    "            print(\"is a prime\")\n",
    "else:\n",
    "            print(\"is not a prime\")"
   ]
  },
  {
   "cell_type": "code",
   "execution_count": null,
   "id": "ecf8b6a3-233e-421c-b55a-e9bc115d0728",
   "metadata": {},
   "outputs": [],
   "source": [
    "if __name__='__main__':\n",
    "filename=\"example.txt\"\n",
    "new_filename = \"new_example.txt\"\n",
    "\n",
    "create_file(filename)\n",
    "read_file(filename)\n",
    "append_file(filename,\"this is some additional text,\\n\")\n",
    "read_file(filename)\n",
    "rename_file(filename,new_filename)\n",
    "read_file(new_filename)"
   ]
  },
  {
   "cell_type": "code",
   "execution_count": 20,
   "id": "acd38b54-6367-44ba-92b5-bd9b0e4605f1",
   "metadata": {},
   "outputs": [
    {
     "ename": "IndentationError",
     "evalue": "unexpected indent (1920411890.py, line 6)",
     "output_type": "error",
     "traceback": [
      "\u001b[1;36m  Cell \u001b[1;32mIn[20], line 6\u001b[1;36m\u001b[0m\n\u001b[1;33m    f.close()\u001b[0m\n\u001b[1;37m    ^\u001b[0m\n\u001b[1;31mIndentationError\u001b[0m\u001b[1;31m:\u001b[0m unexpected indent\n"
     ]
    }
   ],
   "source": [
    "import os\n",
    "with open(\"file1.txt\",'r') as f:\n",
    " for a in f.read().split(\"\\n\"):\n",
    "  print(a)\n",
    "  print(\"111\")\n",
    "   f.close()"
   ]
  },
  {
   "cell_type": "code",
   "execution_count": 16,
   "id": "d2092251-acac-4a0a-9a32-c9b7b4ac45af",
   "metadata": {},
   "outputs": [],
   "source": [
    "import os\n",
    "with open (\"file.txt\",'w')as f:\n",
    "    f.close()"
   ]
  },
  {
   "cell_type": "code",
   "execution_count": 24,
   "id": "8d0515c8-ed90-4eda-9a79-3cc1caa1057b",
   "metadata": {},
   "outputs": [
    {
     "ename": "NameError",
     "evalue": "name 'append_file' is not defined",
     "output_type": "error",
     "traceback": [
      "\u001b[1;31m---------------------------------------------------------------------------\u001b[0m",
      "\u001b[1;31mNameError\u001b[0m                                 Traceback (most recent call last)",
      "Cell \u001b[1;32mIn[24], line 2\u001b[0m\n\u001b[0;32m      1\u001b[0m \u001b[38;5;28;01mimport\u001b[39;00m \u001b[38;5;21;01mos\u001b[39;00m\n\u001b[1;32m----> 2\u001b[0m \u001b[43mappend_file\u001b[49m(file\u001b[38;5;241m.\u001b[39mtxt,\u001b[38;5;124m\"\u001b[39m\u001b[38;5;124mtxtfile.txt\u001b[39m\u001b[38;5;130;01m\\n\u001b[39;00m\u001b[38;5;124m\"\u001b[39m)\n",
      "\u001b[1;31mNameError\u001b[0m: name 'append_file' is not defined"
     ]
    }
   ],
   "source": [
    "import os\n",
    "append_file(file.txt,\"txtfile.txt\\n\")\n"
   ]
  },
  {
   "cell_type": "code",
   "execution_count": 21,
   "id": "3225b33c-b131-49a5-a037-efdd2d47e633",
   "metadata": {},
   "outputs": [
    {
     "ename": "NameError",
     "evalue": "name 'create_file' is not defined",
     "output_type": "error",
     "traceback": [
      "\u001b[1;31m---------------------------------------------------------------------------\u001b[0m",
      "\u001b[1;31mNameError\u001b[0m                                 Traceback (most recent call last)",
      "Cell \u001b[1;32mIn[21], line 2\u001b[0m\n\u001b[0;32m      1\u001b[0m \u001b[38;5;28;01mimport\u001b[39;00m \u001b[38;5;21;01mos\u001b[39;00m\n\u001b[1;32m----> 2\u001b[0m \u001b[43mcreate_file\u001b[49m(\u001b[38;5;124m\"\u001b[39m\u001b[38;5;124mfruits name\u001b[39m\u001b[38;5;124m\"\u001b[39m)\n\u001b[0;32m      3\u001b[0m read_file(\u001b[38;5;124m\"\u001b[39m\u001b[38;5;124mfruits name\u001b[39m\u001b[38;5;124m\"\u001b[39m)\n\u001b[0;32m      4\u001b[0m write_file(\u001b[38;5;124m\"\u001b[39m\u001b[38;5;124mfile.txt\u001b[39m\u001b[38;5;124m\"\u001b[39m)\n",
      "\u001b[1;31mNameError\u001b[0m: name 'create_file' is not defined"
     ]
    }
   ],
   "source": [
    "import os\n",
    "create_file(\"fruits name\")\n",
    "read_file(\"fruits name\")\n",
    "write_file(\"file.txt\")\n",
    "append_file(\"txt_file.txt\\n\")\n",
    "read_file(\"fruits name\")"
   ]
  },
  {
   "cell_type": "code",
   "execution_count": null,
   "id": "51b2dc16-421d-4838-9074-1118876c8b96",
   "metadata": {},
   "outputs": [],
   "source": [
    "def celcious_farhenheit(celsius):\n",
    "    return celsius * 9/5"
   ]
  },
  {
   "cell_type": "code",
   "execution_count": null,
   "id": "bc65158d-616c-47a6-b234-fcb974181b7e",
   "metadata": {},
   "outputs": [],
   "source": []
  }
 ],
 "metadata": {
  "kernelspec": {
   "display_name": "Python 3 (ipykernel)",
   "language": "python",
   "name": "python3"
  },
  "language_info": {
   "codemirror_mode": {
    "name": "ipython",
    "version": 3
   },
   "file_extension": ".py",
   "mimetype": "text/x-python",
   "name": "python",
   "nbconvert_exporter": "python",
   "pygments_lexer": "ipython3",
   "version": "3.12.3"
  }
 },
 "nbformat": 4,
 "nbformat_minor": 5
}
