{
 "cells": [
  {
   "cell_type": "code",
   "execution_count": 14,
   "id": "630f1a5c-dfe6-4c3f-a5a7-fc5b312f5c99",
   "metadata": {},
   "outputs": [
    {
     "name": "stdin",
     "output_type": "stream",
     "text": [
      " the is car\n"
     ]
    },
    {
     "name": "stdout",
     "output_type": "stream",
     "text": [
      "rac si eht"
     ]
    }
   ],
   "source": [
    "a=input()\n",
    "s=[]\n",
    "for e in a:\n",
    "    s.append(e)\n",
    "\n",
    "while len(s)>0:\n",
    "    print(s.pop(),end='')\n",
    "    "
   ]
  },
  {
   "cell_type": "code",
   "execution_count": 12,
   "id": "26c3d45a-4241-4295-811b-e265fb977a25",
   "metadata": {},
   "outputs": [
    {
     "name": "stdin",
     "output_type": "stream",
     "text": [
      " this is a car\n"
     ]
    },
    {
     "name": "stdout",
     "output_type": "stream",
     "text": [
      "car a is this "
     ]
    }
   ],
   "source": [
    "a=input()\n",
    "s=[]\n",
    "for e in a.split():\n",
    "    s.append(e)\n",
    "\n",
    "while len(s)>0:\n",
    "    print(s.pop(),end=' ')\n",
    "    "
   ]
  },
  {
   "cell_type": "markdown",
   "id": "6e9e375f-4ac6-4001-b0a2-e93cab053373",
   "metadata": {},
   "source": [
    "#infix to postfix expression\n",
    "-identify the charcater-->operator,brace,operands\n",
    "-operator procedure-->(+,-)(*/)^\n",
    "^-->3\n",
    "*/-->2\n",
    "+- -->1"
   ]
  },
  {
   "cell_type": "code",
   "execution_count": 18,
   "id": "f4b5efea-41cd-44f8-8467-5456d7ab8a07",
   "metadata": {},
   "outputs": [
    {
     "name": "stdin",
     "output_type": "stream",
     "text": [
      " (a+b)*c\n"
     ]
    },
    {
     "name": "stdout",
     "output_type": "stream",
     "text": [
      "Infix Expression: (a+b)*c\n",
      "Postfix Expression: ab+c*\n"
     ]
    }
   ],
   "source": [
    "infix = input()\n",
    "postfix = infix_to_postfix(infix)\n",
    "def is_operator(char):\n",
    "    return char in ['+', '-', '*', '/']\n",
    "\n",
    "def precedence(operator):\n",
    "    if operator == '+' or operator == '-':\n",
    "        return 1m   \n",
    "    elif operator == '*' or operator == '/':\n",
    "        return 2\n",
    "    else:\n",
    "        return 0`\n",
    "\n",
    "def infix_to_postfix(expression):\n",
    "    postfix = ''\n",
    "    stack = []\n",
    "\n",
    "    for char in expression:\n",
    "        if char.isalnum():\n",
    "            postfix += char\n",
    "        elif char == '(':\n",
    "            stack.append(char)\n",
    "        elif char == ')':\n",
    "            while stack and stack[-1] != '(':\n",
    "                postfix += stack.pop()\n",
    "            stack.pop()\n",
    "        elif is_operator(char):\n",
    "            while stack and precedence(stack[-1]) >= precedence(char):\n",
    "                postfix += stack.pop()\n",
    "            stack.append(char)\n",
    "\n",
    "    while stack:\n",
    "        postfix += stack.pop()\n",
    "\n",
    "    return postfix\n",
    "\n",
    "print(\"Infix Expression:\", infix_expression)\n",
    "print(\"Postfix Expression:\", postfix_expression)\n"
   ]
  },
  {
   "cell_type": "code",
   "execution_count": 22,
   "id": "dfe4bfe9-716d-484f-b497-636a23bd3e95",
   "metadata": {},
   "outputs": [
    {
     "name": "stdout",
     "output_type": "stream",
     "text": [
      "Total energy intake: 6\n"
     ]
    }
   ],
   "source": [
    "food_sequence = [\"apple\", \"Dal\", \"chapati\", \"rice\", \"rice\", \"apple\", \"apple\", \"Dal\", \"rice\", \"Dal\", \"chapati\", \"chapati\"]\n",
    "total_energy = calculate_energy(food_sequence)\n",
    "def calculate_energy(food_sequence):\n",
    "    energy = 0\n",
    "    food = None  \n",
    "    for i in food_sequence:\n",
    "        if prev == i:\n",
    "            energy -= 1\n",
    "        else:\n",
    "            energy += 1\n",
    "            prev_food = food\n",
    "    return energy\n",
    "\n",
    "\n",
    "\n",
    "print(\"Total energy intake:\", total_energy)\n"
   ]
  },
  {
   "cell_type": "code",
   "execution_count": 8,
   "id": "00e66a85-b437-414d-a70f-db43e3c521a5",
   "metadata": {},
   "outputs": [
    {
     "name": "stdin",
     "output_type": "stream",
     "text": [
      " [][][[)\n"
     ]
    },
    {
     "name": "stdout",
     "output_type": "stream",
     "text": [
      "valid\n"
     ]
    }
   ],
   "source": [
    "s=input()\n",
    "s=[]\n",
    "for e in s:\n",
    "    print('s')\n",
    "    if e =='('or e==\"{\" or e ==\"[\":\n",
    "        s.append(e)\n",
    "    elif (e==')' and s[-1]=='(') or (e == '}' and s[-1]=='{') or (e=='['and s[-1]=='['):\n",
    "        if e==s[-1]:\n",
    "            s.pop()\n",
    "        else:\n",
    "            break;\n",
    "    else:\n",
    "        continue\n",
    "\n",
    "if not s:\n",
    "    print(\"valid\")\n",
    "else:\n",
    "    print(\"invalid\")"
   ]
  },
  {
   "cell_type": "code",
   "execution_count": null,
   "id": "d36dee5e-5a35-4094-83e5-93b0faa33073",
   "metadata": {},
   "outputs": [],
   "source": []
  }
 ],
 "metadata": {
  "kernelspec": {
   "display_name": "Python 3 (ipykernel)",
   "language": "python",
   "name": "python3"
  },
  "language_info": {
   "codemirror_mode": {
    "name": "ipython",
    "version": 3
   },
   "file_extension": ".py",
   "mimetype": "text/x-python",
   "name": "python",
   "nbconvert_exporter": "python",
   "pygments_lexer": "ipython3",
   "version": "3.12.3"
  }
 },
 "nbformat": 4,
 "nbformat_minor": 5
}
