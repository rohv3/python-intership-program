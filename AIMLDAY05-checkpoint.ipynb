{
 "cells": [
  {
   "cell_type": "code",
   "execution_count": 5,
   "id": "d24a8806-1df6-4a13-b2bd-98a94bf8bcf3",
   "metadata": {},
   "outputs": [
    {
     "name": "stdout",
     "output_type": "stream",
     "text": [
      "file doesnt exist\n"
     ]
    }
   ],
   "source": [
    "import os\n",
    "try:\n",
    "    with open(\"sample.txt\",'r') as F:\n",
    "        pass\n",
    "except FileNotFoundError:\n",
    "    print(\"file doesnt exist\")"
   ]
  },
  {
   "cell_type": "code",
   "execution_count": 7,
   "id": "99712100-4aed-46f4-a0e5-ac283bd0efc5",
   "metadata": {},
   "outputs": [],
   "source": [
    "import os\n",
    "try:\n",
    "    with open(\"sample.txt\",'w') as F:\n",
    "        F.write(\"rohith\")\n",
    "except FileNotFoundError:\n",
    "    print(\"file doesnt exist\")"
   ]
  },
  {
   "cell_type": "code",
   "execution_count": null,
   "id": "fc57575a-8e3a-4f9d-899b-448d9fb767d5",
   "metadata": {},
   "outputs": [],
   "source": [
    "oops concept\n",
    "craete a class laptop"
   ]
  },
  {
   "cell_type": "code",
   "execution_count": 12,
   "id": "e4e67868-6c69-4beb-9951-511bb1f54421",
   "metadata": {},
   "outputs": [
    {
     "name": "stdout",
     "output_type": "stream",
     "text": [
      "Config of the laptop is :\n",
      "Processor i3\n",
      "ram 6\n",
      "storage 512\n",
      "Config of the laptop is :\n",
      "Processor i5\n",
      "ram 8\n",
      "storage 1TB\n",
      "Config of the laptop is :\n",
      "Processor i8\n",
      "ram 12\n",
      "storage 512\n"
     ]
    }
   ],
   "source": [
    "class laptop:\n",
    "    def __init__(self,p,r,s):\n",
    "        self.processor=p\n",
    "        self.ram=r\n",
    "        self.storage=s\n",
    "\n",
    "\n",
    "    def config(self):\n",
    "        print(\"Config of the laptop is :\")\n",
    "        print(\"Processor\",self.processor)\n",
    "        print(\"ram\",self.ram)\n",
    "        print(\"storage\",self.storage)\n",
    "              \n",
    "hp=laptop('i3',8,512)\n",
    "DELL=laptop('i5',8,'1TB')\n",
    "Asus=laptop('i8',12,512)\n",
    "\n",
    "hp.config()\n",
    "DELL.config()\n",
    "Asus.config()\n",
    "\n",
    "        "
   ]
  },
  {
   "cell_type": "markdown",
   "id": "f697b7c4-8ab7-46a5-a4de-c50037b2ef39",
   "metadata": {},
   "source": [
    "create  a class student\n",
    "which can hold the marks in 5 subjeacts \n",
    "and also create a func to print the marks and calculate the avc of 5 subjects \n"
   ]
  },
  {
   "cell_type": "code",
   "execution_count": 25,
   "id": "6284af39-d2d4-4fdb-a455-51c6ae119ed8",
   "metadata": {},
   "outputs": [
    {
     "name": "stdout",
     "output_type": "stream",
     "text": [
      "rohith = 67.8\n",
      "tarun = 63.6\n",
      "prabakar = 63.6\n"
     ]
    }
   ],
   "source": [
    "class student:\n",
    "    def __init__(self,m):\n",
    "        self.marks=m\n",
    "\n",
    "    def avg(self):\n",
    "        s=0\n",
    "        for i in self.marks:\n",
    "            s+=i\n",
    "        return (s/len(self.marks))\n",
    "\n",
    "if __name__=='__main__':\n",
    "    st1=student([99,85,76,44,35])\n",
    "    st2=student([35,85,25,74,99])\n",
    "    st3=student([74,99,35,85,25])\n",
    "\n",
    "    print ('rohith =',st1.avg())\n",
    "    print ('tarun =',st2.avg())\n",
    "    print ('prabakar =',st3.avg())\n",
    "        "
   ]
  },
  {
   "cell_type": "code",
   "execution_count": 3,
   "id": "fbae4f34-8712-4f12-b4d3-248569b8020b",
   "metadata": {},
   "outputs": [
    {
     "name": "stdin",
     "output_type": "stream",
     "text": [
      "enter marks for avg 35 55 44 55 22 55 \n",
      "enter marks for avg 96 54 21 54 85 95 \n",
      "enter marks for avg 54 24 54 84 65 25 \n"
     ]
    },
    {
     "name": "stdout",
     "output_type": "stream",
     "text": [
      "rohith = 44.333333333333336\n",
      "tarun = 67.5\n",
      "prabakar = 51.0\n",
      "tarun\n"
     ]
    }
   ],
   "source": [
    "class student:\n",
    "    def __init__(self,m):\n",
    "        self.marks=m\n",
    "\n",
    "    def avg(self):\n",
    "        s=0\n",
    "        for i in self.marks:\n",
    "            s+=i\n",
    "        return (s/len(self.marks))\n",
    "\n",
    "\n",
    "\n",
    "if __name__=='__main__':\n",
    "    st1=student([int(item) for item in input('enter marks for avg').split()])\n",
    "    st2=student([int(item) for item in input('enter marks for avg').split()])\n",
    "    st3=student([int(item) for item in input('enter marks for avg').split()])\n",
    "\n",
    "    print ('rohith =',st1.avg())\n",
    "    print ('tarun =',st2.avg())\n",
    "    print ('prabakar =',st3.avg())\n",
    "\n",
    "    if st1.avg()>st2.avg():\n",
    "        if st1.avg()>st3.avg():\n",
    "            print('rohith')\n",
    "        else:\n",
    "            print('prabakar')\n",
    "    else:\n",
    "        if st2.avg()>st3.avg():\n",
    "            print('tarun')\n",
    "        else:\n",
    "            print('prabakar')\n",
    "        "
   ]
  },
  {
   "cell_type": "code",
   "execution_count": 5,
   "id": "63f07343-4cde-4b59-897e-a7ece0006ca1",
   "metadata": {},
   "outputs": [
    {
     "name": "stdin",
     "output_type": "stream",
     "text": [
      "enter marks for avg 77 80 86 65 67 24 72\n"
     ]
    },
    {
     "name": "stdout",
     "output_type": "stream",
     "text": [
      "rohith = 67.28571428571429\n"
     ]
    }
   ],
   "source": [
    "class student:\n",
    "    def __init__(self,m):\n",
    "        self.marks=m\n",
    "\n",
    "    def avg(self):\n",
    "        s=0\n",
    "        for i in self.marks:\n",
    "            s+=i\n",
    "        return (s/len(self.marks))\n",
    "\n",
    "\n",
    "\n",
    "if __name__=='__main__':\n",
    "    st1=student([int(item) for item in input('enter marks for avg').split()])\n",
    "\n",
    "    print ('rohith =',st1.avg())\n",
    "   "
   ]
  },
  {
   "cell_type": "markdown",
   "id": "bc4fb550-b4ed-463e-804c-56508441fec3",
   "metadata": {},
   "source": [
    "inheritence"
   ]
  },
  {
   "cell_type": "code",
   "execution_count": null,
   "id": "7bfbd712-2209-4ea2-919d-cdaec10a414b",
   "metadata": {},
   "outputs": [],
   "source": [
    "class laptop:\n",
    "    def __init__(self,p,r,s):\n",
    "        self.processor=p\n",
    "        self.ram=r\n",
    "        self.storage=s\n",
    "\n",
    "class Proffesional_laptop(laptop):\n",
    "    def __init__(self,battery,p,r,s):\n",
    "        self.battery=b\n",
    "        super().__init__(p,r,s)\n",
    "\n",
    "class Gaming_laptop(laptop):\n",
    "    def __init__(self,graphic,p,r,s):\n",
    "         super().__init__(batter,p,r,s)\n",
    "        \n"
   ]
  },
  {
   "cell_type": "code",
   "execution_count": 3,
   "id": "037b3a11-2832-4229-ba28-7c8847ec05d5",
   "metadata": {},
   "outputs": [
    {
     "name": "stdout",
     "output_type": "stream",
     "text": [
      "General Ticket:\n",
      "Ticket: A to B\n",
      "Distance: 500 km\n",
      "Booking Charges: 50\n",
      "Total Price: 1050\n",
      "\n",
      "Sleeper Ticket:\n",
      "Ticket: A to B\n",
      "Distance: 500 km\n",
      "Booking Charges: 50\n",
      "Total Price: 2050\n",
      "\n",
      "AC Ticket:\n",
      "Ticket: A to B\n",
      "Distance: 500 km\n",
      "Booking Charges: 50\n",
      "Total Price: 3050\n",
      "\n",
      "First Class Ticket:\n",
      "Ticket: A to B\n",
      "Distance: 500 km\n",
      "Booking Charges: 50\n",
      "Total Price: 3550\n"
     ]
    }
   ],
   "source": [
    "class Ticket:\n",
    "    def __init__(self, source, destination, distance):\n",
    "        self.source = source\n",
    "        self.destination = destination\n",
    "        self.distance = distance\n",
    "        self.booking_charges = 50\n",
    "\n",
    "    def calculate_distance_charges(self):\n",
    "        return self.distance * 2\n",
    "\n",
    "    def calculate_total_price(self):\n",
    "        return self.booking_charges + self.calculate_distance_charges()\n",
    "\n",
    "    def __str__(self):\n",
    "        return f\"Ticket: {self.source} to {self.destination}\\nDistance: {self.distance} km\\nBooking Charges: {self.booking_charges}\\nTotal Price: {self.calculate_total_price()}\"\n",
    "\n",
    "class GeneralTicket(Ticket):\n",
    "    def __init__(self, source, destination, distance):\n",
    "        super().__init__(source, destination, distance)\n",
    "\n",
    "class SleeperTicket(Ticket):\n",
    "    def __init__(self, source, destination, distance):\n",
    "        super().__init__(source, destination, distance)\n",
    "        self.sleeper_charges = 2\n",
    "\n",
    "    def calculate_distance_charges(self):\n",
    "        return super().calculate_distance_charges() + self.distance * self.sleeper_charges\n",
    "\n",
    "class ACTicket(Ticket):\n",
    "    def __init__(self, source, destination, distance):\n",
    "        super().__init__(source, destination, distance)\n",
    "        self.ac_charges = 4\n",
    "\n",
    "    def calculate_distance_charges(self):\n",
    "        return super().calculate_distance_charges() + self.distance * self.ac_charges\n",
    "\n",
    "class FirstClassTicket(Ticket):\n",
    "    def __init__(self, source, destination, distance):\n",
    "        super().__init__(source, destination, distance)\n",
    "        self.first_class_charges = 5\n",
    "\n",
    "    def calculate_distance_charges(self):\n",
    "        return super().calculate_distance_charges() + self.distance * self.first_class_charges\n",
    "\n",
    "source = \"A\"\n",
    "destination = \"B\"\n",
    "distance = 500\n",
    "\n",
    "general_ticket = GeneralTicket(source, destination, distance)\n",
    "sleeper_ticket = SleeperTicket(source, destination, distance)\n",
    "ac_ticket = ACTicket(source, destination, distance)\n",
    "first_class_ticket = FirstClassTicket(source, destination, distance)\n",
    "\n",
    "print(\"General Ticket:\")\n",
    "print(general_ticket)\n",
    "\n",
    "print(\"\\nSleeper Ticket:\")\n",
    "print(sleeper_ticket)\n",
    "\n",
    "print(\"\\nAC Ticket:\")\n",
    "print(ac_ticket)\n",
    "\n",
    "print(\"\\nFirst Class Ticket:\")\n",
    "print(first_class_ticket)\n"
   ]
  },
  {
   "cell_type": "code",
   "execution_count": 4,
   "id": "e5f90ad7-8767-4c1d-a92c-da7d1c1d216b",
   "metadata": {},
   "outputs": [
    {
     "ename": "TypeError",
     "evalue": "FC() takes no arguments",
     "output_type": "error",
     "traceback": [
      "\u001b[1;31m---------------------------------------------------------------------------\u001b[0m",
      "\u001b[1;31mTypeError\u001b[0m                                 Traceback (most recent call last)",
      "Cell \u001b[1;32mIn[4], line 39\u001b[0m\n\u001b[0;32m     35\u001b[0m         \u001b[38;5;28mself\u001b[39m\u001b[38;5;241m.\u001b[39mfarePrice\u001b[38;5;241m=\u001b[39m\u001b[38;5;28msuper\u001b[39m()\u001b[38;5;241m.\u001b[39mprint_ticket()\u001b[38;5;241m+\u001b[39m(\u001b[38;5;241m5\u001b[39m\u001b[38;5;241m*\u001b[39m\u001b[38;5;28mself\u001b[39m\u001b[38;5;241m.\u001b[39mdistance)\n\u001b[0;32m     36\u001b[0m         \u001b[38;5;28;01mreturn\u001b[39;00m \u001b[38;5;28mself\u001b[39m\u001b[38;5;241m.\u001b[39mfarePrice\n\u001b[1;32m---> 39\u001b[0m jur \u001b[38;5;241m=\u001b[39m \u001b[43mFC\u001b[49m\u001b[43m(\u001b[49m\u001b[38;5;241;43m500\u001b[39;49m\u001b[43m)\u001b[49m\n\u001b[0;32m     40\u001b[0m \u001b[38;5;28mprint\u001b[39m(\u001b[38;5;124m\"\u001b[39m\u001b[38;5;124mTicket booked Fare Price will be: \u001b[39m\u001b[38;5;124m\"\u001b[39m,jur\u001b[38;5;241m.\u001b[39mprint_ticket())\n",
      "\u001b[1;31mTypeError\u001b[0m: FC() takes no arguments"
     ]
    }
   ],
   "source": [
    "class ticket:\n",
    "   \n",
    "    def _init_(self,D):\n",
    "        self.distance = int(D)\n",
    "        self.farePrice = None\n",
    "\n",
    "class gen(ticket):\n",
    "    def _init_(self,D):\n",
    "        super()._init_(D)\n",
    "    def print_ticket(self):\n",
    "        self.farePrice=50+(self.distance*2)\n",
    "        return self.farePrice\n",
    "        \n",
    "\n",
    "\n",
    "class slp(gen):\n",
    "    def _init_(self,D):\n",
    "        super()._init_(D)\n",
    "\n",
    "    def print_ticket(self):\n",
    "        self.farePrice=super().print_ticket()+(2*self.distance)\n",
    "        return self.farePrice\n",
    "\n",
    "class AC(slp):\n",
    "    def _init_(self,D):\n",
    "        super()._init_(D)\n",
    "    def print_ticket(self):\n",
    "        self.farePrice=super().print_ticket()+(4*self.distance)\n",
    "        return self.farePrice\n",
    "\n",
    "class FC(AC):\n",
    "    def _init_(self,D):\n",
    "        super()._init_(D)\n",
    "    def print_ticket(self):\n",
    "        self.farePrice=super().print_ticket()+(5*self.distance)\n",
    "        return self.farePrice\n",
    "\n",
    "\n",
    "jur = FC(500)\n",
    "print(\"Ticket booked Fare Price will be: \",jur.print_ticket())"
   ]
  },
  {
   "cell_type": "code",
   "execution_count": null,
   "id": "f533623a-4444-40a8-9ff9-bd76dfc98f81",
   "metadata": {},
   "outputs": [],
   "source": []
  }
 ],
 "metadata": {
  "kernelspec": {
   "display_name": "Python 3 (ipykernel)",
   "language": "python",
   "name": "python3"
  },
  "language_info": {
   "codemirror_mode": {
    "name": "ipython",
    "version": 3
   },
   "file_extension": ".py",
   "mimetype": "text/x-python",
   "name": "python",
   "nbconvert_exporter": "python",
   "pygments_lexer": "ipython3",
   "version": "3.12.3"
  }
 },
 "nbformat": 4,
 "nbformat_minor": 5
}
