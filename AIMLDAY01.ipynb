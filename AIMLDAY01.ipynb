{
 "cells": [
  {
   "cell_type": "code",
   "execution_count": 1,
   "id": "e6ead7f7-346e-4d38-8803-8bb948f3b0b7",
   "metadata": {},
   "outputs": [
    {
     "name": "stdout",
     "output_type": "stream",
     "text": [
      "hello\n"
     ]
    }
   ],
   "source": [
    "print(\"hello\")"
   ]
  },
  {
   "cell_type": "code",
   "execution_count": null,
   "id": "282dd18e-078a-4781-b7e2-a619711b6485",
   "metadata": {},
   "outputs": [],
   "source": []
  },
  {
   "cell_type": "code",
   "execution_count": 8,
   "id": "cc165fdf-3102-4abd-af65-dd9b555322f5",
   "metadata": {},
   "outputs": [
    {
     "name": "stdout",
     "output_type": "stream",
     "text": [
      "5\n",
      "<class 'int'>\n",
      "5.5\n",
      "<class 'float'>\n",
      "5\n",
      "<class 'str'>\n",
      "[5, 10]\n",
      "<class 'list'>\n",
      "(2, 6)\n",
      "<class 'tuple'>\n",
      "{'abc': 5}\n",
      "<class 'dict'>\n"
     ]
    }
   ],
   "source": [
    "a=5\n",
    "print(a)\n",
    "print(type(a))\n",
    "a=5.5\n",
    "print(a)\n",
    "print(type(a))\n",
    "a=\"5\"\n",
    "print(a)\n",
    "print(type(a))\n",
    "a=[5,10]\n",
    "print(a)\n",
    "print(type(a))\n",
    "a=(2,6)\n",
    "print(a)\n",
    "print(type(a))\n",
    "a={\"abc\":}\n",
    "print(a)\n",
    "print(type(a))\n"
   ]
  },
  {
   "cell_type": "code",
   "execution_count": 6,
   "id": "15fcc0c9-a29c-4398-96b7-10bc2d5098ac",
   "metadata": {},
   "outputs": [
    {
     "name": "stdin",
     "output_type": "stream",
     "text": [
      "enter the first value:   10\n",
      "enter the second value:  5\n"
     ]
    },
    {
     "name": "stdout",
     "output_type": "stream",
     "text": [
      "15\n"
     ]
    }
   ],
   "source": [
    "a=int(input(\"enter the first value:  \"))\n",
    "b=int(input(\"enter the second value: \"))\n",
    "c=a+b\n",
    "print(c)\n"
   ]
  },
  {
   "cell_type": "code",
   "execution_count": 9,
   "id": "7a292b21-c8d6-42bf-8648-7d3476d6e1c5",
   "metadata": {},
   "outputs": [
    {
     "name": "stdin",
     "output_type": "stream",
     "text": [
      " 2\n",
      " 3\n"
     ]
    },
    {
     "name": "stdout",
     "output_type": "stream",
     "text": [
      "5\n"
     ]
    }
   ],
   "source": [
    "a=int(input())\n",
    "b=int(input())\n",
    "c=a+b\n",
    "print(c)"
   ]
  },
  {
   "cell_type": "code",
   "execution_count": 11,
   "id": "47f6f12b-0c80-49fd-8abb-fd38279ef7d1",
   "metadata": {},
   "outputs": [
    {
     "name": "stdin",
     "output_type": "stream",
     "text": [
      " 5\n"
     ]
    },
    {
     "name": "stdout",
     "output_type": "stream",
     "text": [
      "5\n",
      "<class 'str'>\n"
     ]
    }
   ],
   "source": [
    "a=input()\n",
    "print(a)\n",
    "print(type(a))"
   ]
  },
  {
   "cell_type": "code",
   "execution_count": 12,
   "id": "d140b82b-5bc2-433a-9658-1556395bdd30",
   "metadata": {},
   "outputs": [
    {
     "name": "stdin",
     "output_type": "stream",
     "text": [
      " 5\n",
      " 5\n"
     ]
    },
    {
     "name": "stdout",
     "output_type": "stream",
     "text": [
      "55\n",
      "<class 'str'>\n",
      "<class 'str'>\n",
      "<class 'str'>\n"
     ]
    }
   ],
   "source": [
    "a=input()\n",
    "b=input()\n",
    "c=a+b\n",
    "print(c)\n",
    "print(type(a))\n",
    "print(type(b))\n",
    "print(type(c))"
   ]
  },
  {
   "cell_type": "code",
   "execution_count": 13,
   "id": "b9dbbb8c-ae22-45db-b735-8e87fc3fdf8a",
   "metadata": {},
   "outputs": [
    {
     "name": "stdout",
     "output_type": "stream",
     "text": [
      "10\n",
      "10\n",
      "10\n"
     ]
    }
   ],
   "source": [
    "a=b=c=10\n",
    "print(a)\n",
    "print(b)\n",
    "print(c)"
   ]
  },
  {
   "cell_type": "code",
   "execution_count": 14,
   "id": "d5178cc2-c2ed-4e25-b13f-2189f2918742",
   "metadata": {},
   "outputs": [
    {
     "name": "stdout",
     "output_type": "stream",
     "text": [
      "1\n",
      "2\n",
      "3\n"
     ]
    }
   ],
   "source": [
    "a,b,c={1,2,3}\n",
    "print(a)\n",
    "print(b)\n",
    "print(c)\n"
   ]
  },
  {
   "cell_type": "code",
   "execution_count": 15,
   "id": "44fa28bb-c9fd-4ef3-b3e7-09366dd1919f",
   "metadata": {},
   "outputs": [
    {
     "name": "stdout",
     "output_type": "stream",
     "text": [
      "abcd efgh ijkl\n",
      "abcdefghijklmnop\n",
      "abcd efgh ijkl mnop\n"
     ]
    }
   ],
   "source": [
    "a=\"abcd\"\n",
    "b=\"efgh\"\n",
    "c=\"ijkl\"\n",
    "print(a,b,c)\n",
    "print(a+b+c+\"mnop\")\n",
    "print(a,b,c,\"mnop\")"
   ]
  },
  {
   "cell_type": "markdown",
   "id": "e7402d50-b4c1-4109-9062-d73aaab84da6",
   "metadata": {},
   "source": [
    " a=int(input(\"enter the first value:  \"))\n",
    "b=int(input(\"enter the second value:  \"))\n",
    "c=int(input(\"enter the third value:  \"))\n",
    "d=a+b+c\n",
    "print(a)\n",
    "print(b)\n",
    "print(c)\n",
    "print(d)\n",
    "d=a+b+c\n",
    "d=a+b-c\n",
    "d1=a-b+c\n",
    "d2=a*b+c\n",
    "d3=a+b*c\n",
    "d4=a/b+c\n",
    "d5=a+b/c\n",
    "print(d1)\n",
    "print(d2)\n",
    "print(d3)\n",
    "print(d4)\n",
    "print(d5)\n",
    "\n",
    "\n",
    "\n",
    "\n",
    "\n"
   ]
  },
  {
   "cell_type": "code",
   "execution_count": null,
   "id": "6d07cb36-7505-4ff4-aac5-4a027447cd44",
   "metadata": {},
   "outputs": [],
   "source": []
  }
 ],
 "metadata": {
  "kernelspec": {
   "display_name": "Python 3 (ipykernel)",
   "language": "python",
   "name": "python3"
  },
  "language_info": {
   "codemirror_mode": {
    "name": "ipython",
    "version": 3
   },
   "file_extension": ".py",
   "mimetype": "text/x-python",
   "name": "python",
   "nbconvert_exporter": "python",
   "pygments_lexer": "ipython3",
   "version": "3.12.3"
  }
 },
 "nbformat": 4,
 "nbformat_minor": 5
}
